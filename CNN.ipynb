{
 "cells": [
  {
   "cell_type": "code",
   "execution_count": 19,
   "metadata": {
    "id": "j1khQnvJpJdO"
   },
   "outputs": [],
   "source": [
    "import tensorflow as tf\n",
    "from keras.preprocessing.image import ImageDataGenerator\n",
    "from keras.models import Sequential\n",
    "from keras.layers import Conv2D,MaxPool2D,Flatten,Dense"
   ]
  },
  {
   "cell_type": "markdown",
   "metadata": {},
   "source": [
    "## Preprocessing The Data"
   ]
  },
  {
   "cell_type": "markdown",
   "metadata": {},
   "source": [
    "#### Preprocessing The Training Set"
   ]
  },
  {
   "cell_type": "code",
   "execution_count": 20,
   "metadata": {},
   "outputs": [
    {
     "name": "stdout",
     "output_type": "stream",
     "text": [
      "Found 8000 images belonging to 2 classes.\n"
     ]
    }
   ],
   "source": [
    "train_datagen = ImageDataGenerator( rescale=1./255,\n",
    "                                    shear_range=0.2,\n",
    "                                    zoom_range=0.2,\n",
    "                                    horizontal_flip=True)\n",
    "training_set = train_datagen.flow_from_directory('dataset/training_set',\n",
    "                                                 target_size=(64, 64),\n",
    "                                                 batch_size=32,\n",
    "                                                 class_mode='binary')"
   ]
  },
  {
   "cell_type": "markdown",
   "metadata": {},
   "source": [
    "#### Preprocessing The Test Set"
   ]
  },
  {
   "cell_type": "code",
   "execution_count": 21,
   "metadata": {},
   "outputs": [
    {
     "name": "stdout",
     "output_type": "stream",
     "text": [
      "Found 2000 images belonging to 2 classes.\n"
     ]
    }
   ],
   "source": [
    "test_datagen = ImageDataGenerator(rescale = 1./255)\n",
    "test_set = test_datagen.flow_from_directory('dataset/test_set',\n",
    "                                            target_size = (64, 64),\n",
    "                                            batch_size = 32,\n",
    "                                            class_mode = 'binary')"
   ]
  },
  {
   "cell_type": "markdown",
   "metadata": {
    "id": "zKGXi7YwquDn"
   },
   "source": [
    "## Initialising the CNN"
   ]
  },
  {
   "cell_type": "code",
   "execution_count": 22,
   "metadata": {
    "id": "Tp5rNhvgqHAC"
   },
   "outputs": [],
   "source": [
    "classifier = Sequential()"
   ]
  },
  {
   "cell_type": "markdown",
   "metadata": {
    "id": "Yu-YwSzUq_mv"
   },
   "source": [
    "## Step1 - Convolution"
   ]
  },
  {
   "cell_type": "code",
   "execution_count": 23,
   "metadata": {
    "id": "ffaJICdWrPBZ"
   },
   "outputs": [],
   "source": [
    "classifier.add(Conv2D(filters=32,kernel_size=3,activation='relu',input_shape=[64,64,3]))"
   ]
  },
  {
   "cell_type": "markdown",
   "metadata": {
    "id": "hQYtryXwujCe"
   },
   "source": [
    "## Step2- Pooling"
   ]
  },
  {
   "cell_type": "code",
   "execution_count": 24,
   "metadata": {
    "id": "KceV4QXYq5vt"
   },
   "outputs": [],
   "source": [
    "classifier.add(MaxPool2D(pool_size=2,strides=2))"
   ]
  },
  {
   "cell_type": "markdown",
   "metadata": {},
   "source": [
    "### Added second Convolution Layer"
   ]
  },
  {
   "cell_type": "code",
   "execution_count": 25,
   "metadata": {},
   "outputs": [],
   "source": [
    "classifier.add(Conv2D(filters=32,kernel_size=3,activation='relu',input_shape=[64,64,3]))\n",
    "classifier.add(MaxPool2D(pool_size=2,strides=2))"
   ]
  },
  {
   "cell_type": "markdown",
   "metadata": {
    "id": "KCa5UFB60cJK"
   },
   "source": [
    "## Step3- Flattening"
   ]
  },
  {
   "cell_type": "code",
   "execution_count": 26,
   "metadata": {
    "id": "SanoQtf_0aW6"
   },
   "outputs": [],
   "source": [
    "classifier.add(Flatten())"
   ]
  },
  {
   "cell_type": "markdown",
   "metadata": {
    "id": "YoBTRjUf1T9I"
   },
   "source": [
    "## Step4- Full Connection"
   ]
  },
  {
   "cell_type": "code",
   "execution_count": 27,
   "metadata": {
    "id": "hCtojw9L1LM2"
   },
   "outputs": [],
   "source": [
    "classifier.add(Dense(units= 128,activation='relu'))\n",
    "classifier.add(Dense(units= 1,activation='sigmoid'))"
   ]
  },
  {
   "cell_type": "markdown",
   "metadata": {
    "id": "3Idk0RtB2U0w"
   },
   "source": [
    "## Compiling The CNN"
   ]
  },
  {
   "cell_type": "code",
   "execution_count": 28,
   "metadata": {
    "id": "e5Rr6BCG2Nz2"
   },
   "outputs": [],
   "source": [
    "classifier.compile(optimizer='adam',loss='binary_crossentropy',metrics=['accuracy'])"
   ]
  },
  {
   "cell_type": "markdown",
   "metadata": {
    "id": "IlpKRpA7239U"
   },
   "source": [
    "## Fitting CNN to the Images"
   ]
  },
  {
   "cell_type": "code",
   "execution_count": 29,
   "metadata": {},
   "outputs": [
    {
     "name": "stdout",
     "output_type": "stream",
     "text": [
      "Epoch 1/25\n",
      "250/250 [==============================] - 31s 123ms/step - loss: 0.6683 - accuracy: 0.5852 - val_loss: 0.6084 - val_accuracy: 0.6615\n",
      "Epoch 2/25\n",
      "250/250 [==============================] - 30s 119ms/step - loss: 0.5761 - accuracy: 0.7027 - val_loss: 0.5242 - val_accuracy: 0.7460\n",
      "Epoch 3/25\n",
      "250/250 [==============================] - 30s 119ms/step - loss: 0.5360 - accuracy: 0.7306 - val_loss: 0.4943 - val_accuracy: 0.7600\n",
      "Epoch 4/25\n",
      "250/250 [==============================] - 30s 119ms/step - loss: 0.4893 - accuracy: 0.7574 - val_loss: 0.5006 - val_accuracy: 0.7655\n",
      "Epoch 5/25\n",
      "250/250 [==============================] - 30s 120ms/step - loss: 0.5108 - accuracy: 0.7531 - val_loss: 0.4893 - val_accuracy: 0.7600\n",
      "Epoch 6/25\n",
      "250/250 [==============================] - 30s 119ms/step - loss: 0.4534 - accuracy: 0.7773 - val_loss: 0.5353 - val_accuracy: 0.7215\n",
      "Epoch 7/25\n",
      "250/250 [==============================] - 30s 120ms/step - loss: 0.4536 - accuracy: 0.7842 - val_loss: 0.4653 - val_accuracy: 0.7840\n",
      "Epoch 8/25\n",
      "250/250 [==============================] - 30s 119ms/step - loss: 0.4264 - accuracy: 0.8044 - val_loss: 0.4483 - val_accuracy: 0.7975\n",
      "Epoch 9/25\n",
      "250/250 [==============================] - 30s 120ms/step - loss: 0.4110 - accuracy: 0.8076 - val_loss: 0.4405 - val_accuracy: 0.7995\n",
      "Epoch 10/25\n",
      "250/250 [==============================] - 30s 119ms/step - loss: 0.4137 - accuracy: 0.8095 - val_loss: 0.5046 - val_accuracy: 0.7675\n",
      "Epoch 11/25\n",
      "250/250 [==============================] - 30s 120ms/step - loss: 0.3898 - accuracy: 0.8230 - val_loss: 0.4727 - val_accuracy: 0.7820\n",
      "Epoch 12/25\n",
      "250/250 [==============================] - 30s 120ms/step - loss: 0.4033 - accuracy: 0.8127 - val_loss: 0.5335 - val_accuracy: 0.7655\n",
      "Epoch 13/25\n",
      "250/250 [==============================] - 31s 122ms/step - loss: 0.3704 - accuracy: 0.8295 - val_loss: 0.4283 - val_accuracy: 0.8150\n",
      "Epoch 14/25\n",
      "250/250 [==============================] - 30s 121ms/step - loss: 0.3523 - accuracy: 0.8436 - val_loss: 0.4754 - val_accuracy: 0.7900\n",
      "Epoch 15/25\n",
      "250/250 [==============================] - 30s 121ms/step - loss: 0.3425 - accuracy: 0.8447 - val_loss: 0.4352 - val_accuracy: 0.8165\n",
      "Epoch 16/25\n",
      "250/250 [==============================] - 30s 121ms/step - loss: 0.3329 - accuracy: 0.8523 - val_loss: 0.4625 - val_accuracy: 0.8070\n",
      "Epoch 17/25\n",
      "250/250 [==============================] - 30s 121ms/step - loss: 0.3158 - accuracy: 0.8573 - val_loss: 0.4475 - val_accuracy: 0.8110\n",
      "Epoch 18/25\n",
      "250/250 [==============================] - 30s 122ms/step - loss: 0.3005 - accuracy: 0.8707 - val_loss: 0.5068 - val_accuracy: 0.8070\n",
      "Epoch 19/25\n",
      "250/250 [==============================] - 31s 123ms/step - loss: 0.2850 - accuracy: 0.8771 - val_loss: 0.4564 - val_accuracy: 0.8000\n",
      "Epoch 20/25\n",
      "250/250 [==============================] - 31s 123ms/step - loss: 0.2907 - accuracy: 0.8763 - val_loss: 0.4914 - val_accuracy: 0.8080\n",
      "Epoch 21/25\n",
      "250/250 [==============================] - 32s 129ms/step - loss: 0.2696 - accuracy: 0.8825 - val_loss: 0.4790 - val_accuracy: 0.8035\n",
      "Epoch 22/25\n",
      "250/250 [==============================] - 32s 129ms/step - loss: 0.2535 - accuracy: 0.8940 - val_loss: 0.5412 - val_accuracy: 0.7985\n",
      "Epoch 23/25\n",
      "250/250 [==============================] - 31s 124ms/step - loss: 0.2419 - accuracy: 0.9029 - val_loss: 0.4908 - val_accuracy: 0.8175\n",
      "Epoch 24/25\n",
      "250/250 [==============================] - 32s 128ms/step - loss: 0.2429 - accuracy: 0.8997 - val_loss: 0.4962 - val_accuracy: 0.8105\n",
      "Epoch 25/25\n",
      "250/250 [==============================] - 31s 122ms/step - loss: 0.2173 - accuracy: 0.9098 - val_loss: 0.5171 - val_accuracy: 0.7995\n"
     ]
    },
    {
     "data": {
      "text/plain": [
       "<keras.callbacks.History at 0x7f7e80dab040>"
      ]
     },
     "execution_count": 29,
     "metadata": {},
     "output_type": "execute_result"
    }
   ],
   "source": [
    "classifier.fit(x = training_set, validation_data = test_set, epochs = 25)"
   ]
  },
  {
   "cell_type": "code",
   "execution_count": 18,
   "metadata": {},
   "outputs": [],
   "source": []
  },
  {
   "cell_type": "code",
   "execution_count": null,
   "metadata": {},
   "outputs": [],
   "source": []
  }
 ],
 "metadata": {
  "colab": {
   "name": "CNN.ipynb",
   "provenance": []
  },
  "kernelspec": {
   "display_name": "Python 3",
   "language": "python",
   "name": "python3"
  },
  "language_info": {
   "codemirror_mode": {
    "name": "ipython",
    "version": 3
   },
   "file_extension": ".py",
   "mimetype": "text/x-python",
   "name": "python",
   "nbconvert_exporter": "python",
   "pygments_lexer": "ipython3",
   "version": "3.8.10"
  }
 },
 "nbformat": 4,
 "nbformat_minor": 1
}
