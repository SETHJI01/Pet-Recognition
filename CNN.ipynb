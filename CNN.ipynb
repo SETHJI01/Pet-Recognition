{
 "cells": [
  {
   "cell_type": "code",
   "execution_count": 5,
   "metadata": {
    "id": "j1khQnvJpJdO"
   },
   "outputs": [],
   "source": [
    "import tensorflow as tf\n",
    "from keras.preprocessing.image import ImageDataGenerator\n",
    "from keras.models import Sequential\n",
    "from keras.layers import Conv2D,MaxPool2D,Flatten,Dense"
   ]
  },
  {
   "cell_type": "markdown",
   "metadata": {},
   "source": [
    "## Preprocessing The Data"
   ]
  },
  {
   "cell_type": "markdown",
   "metadata": {},
   "source": [
    "#### Preprocessing The Training Set"
   ]
  },
  {
   "cell_type": "code",
   "execution_count": 7,
   "metadata": {},
   "outputs": [
    {
     "name": "stdout",
     "output_type": "stream",
     "text": [
      "Found 8000 images belonging to 2 classes.\n"
     ]
    }
   ],
   "source": [
    "train_datagen = ImageDataGenerator( rescale=1./255,\n",
    "                                    shear_range=0.2,\n",
    "                                    zoom_range=0.2,\n",
    "                                    horizontal_flip=True)\n",
    "training_set = train_datagen.flow_from_directory('dataset/training_set',\n",
    "                                                 target_size=(64, 64),\n",
    "                                                 batch_size=32,\n",
    "                                                 class_mode='binary')"
   ]
  },
  {
   "cell_type": "markdown",
   "metadata": {},
   "source": [
    "#### Preprocessing The Test Set"
   ]
  },
  {
   "cell_type": "code",
   "execution_count": 8,
   "metadata": {},
   "outputs": [
    {
     "name": "stdout",
     "output_type": "stream",
     "text": [
      "Found 2000 images belonging to 2 classes.\n"
     ]
    }
   ],
   "source": [
    "test_datagen = ImageDataGenerator(rescale = 1./255)\n",
    "test_set = test_datagen.flow_from_directory('dataset/test_set',\n",
    "                                            target_size = (64, 64),\n",
    "                                            batch_size = 32,\n",
    "                                            class_mode = 'binary')"
   ]
  },
  {
   "cell_type": "markdown",
   "metadata": {
    "id": "zKGXi7YwquDn"
   },
   "source": [
    "## Initialising the CNN"
   ]
  },
  {
   "cell_type": "code",
   "execution_count": 9,
   "metadata": {
    "id": "Tp5rNhvgqHAC"
   },
   "outputs": [],
   "source": [
    "classifier = Sequential()"
   ]
  },
  {
   "cell_type": "markdown",
   "metadata": {
    "id": "Yu-YwSzUq_mv"
   },
   "source": [
    "## Step1 - Convolution"
   ]
  },
  {
   "cell_type": "code",
   "execution_count": 11,
   "metadata": {
    "id": "ffaJICdWrPBZ"
   },
   "outputs": [],
   "source": [
    "classifier.add(Conv2D(filters=32,kernel_size=3,activation='relu',input_shape=[64,64,3]))"
   ]
  },
  {
   "cell_type": "markdown",
   "metadata": {
    "id": "hQYtryXwujCe"
   },
   "source": [
    "## Step2- Pooling"
   ]
  },
  {
   "cell_type": "code",
   "execution_count": 12,
   "metadata": {
    "id": "KceV4QXYq5vt"
   },
   "outputs": [],
   "source": [
    "classifier.add(MaxPool2D(pool_size=2,strides=2))"
   ]
  },
  {
   "cell_type": "markdown",
   "metadata": {
    "id": "KCa5UFB60cJK"
   },
   "source": [
    "## Step3- Flattening"
   ]
  },
  {
   "cell_type": "code",
   "execution_count": 13,
   "metadata": {
    "id": "SanoQtf_0aW6"
   },
   "outputs": [],
   "source": [
    "classifier.add(Flatten())"
   ]
  },
  {
   "cell_type": "markdown",
   "metadata": {
    "id": "YoBTRjUf1T9I"
   },
   "source": [
    "## Step4- Full Connection"
   ]
  },
  {
   "cell_type": "code",
   "execution_count": 14,
   "metadata": {
    "id": "hCtojw9L1LM2"
   },
   "outputs": [],
   "source": [
    "classifier.add(Dense(units= 128,activation='relu'))\n",
    "classifier.add(Dense(units= 1,activation='sigmoid'))"
   ]
  },
  {
   "cell_type": "markdown",
   "metadata": {
    "id": "3Idk0RtB2U0w"
   },
   "source": [
    "## Compiling The CNN"
   ]
  },
  {
   "cell_type": "code",
   "execution_count": 15,
   "metadata": {
    "id": "e5Rr6BCG2Nz2"
   },
   "outputs": [],
   "source": [
    "classifier.compile(optimizer='adam',loss='binary_crossentropy',metrics=['accuracy'])"
   ]
  },
  {
   "cell_type": "markdown",
   "metadata": {
    "id": "IlpKRpA7239U"
   },
   "source": [
    "## Fitting CNN to the Images"
   ]
  },
  {
   "cell_type": "code",
   "execution_count": 17,
   "metadata": {},
   "outputs": [
    {
     "name": "stdout",
     "output_type": "stream",
     "text": [
      "Epoch 1/25\n",
      "250/250 [==============================] - 42s 124ms/step - loss: 0.6998 - accuracy: 0.5786 - val_loss: 0.6036 - val_accuracy: 0.6810\n",
      "Epoch 2/25\n",
      "250/250 [==============================] - 30s 120ms/step - loss: 0.5841 - accuracy: 0.6896 - val_loss: 0.5687 - val_accuracy: 0.7060\n",
      "Epoch 3/25\n",
      "250/250 [==============================] - 30s 121ms/step - loss: 0.5700 - accuracy: 0.7017 - val_loss: 0.5409 - val_accuracy: 0.7305\n",
      "Epoch 4/25\n",
      "250/250 [==============================] - 29s 116ms/step - loss: 0.5272 - accuracy: 0.7301 - val_loss: 0.5354 - val_accuracy: 0.7285\n",
      "Epoch 5/25\n",
      "250/250 [==============================] - 30s 121ms/step - loss: 0.5111 - accuracy: 0.7447 - val_loss: 0.5713 - val_accuracy: 0.7350\n",
      "Epoch 6/25\n",
      "250/250 [==============================] - 30s 118ms/step - loss: 0.5067 - accuracy: 0.7468 - val_loss: 0.5364 - val_accuracy: 0.7460\n",
      "Epoch 7/25\n",
      "250/250 [==============================] - 30s 119ms/step - loss: 0.4816 - accuracy: 0.7702 - val_loss: 0.5353 - val_accuracy: 0.7470\n",
      "Epoch 8/25\n",
      "250/250 [==============================] - 30s 120ms/step - loss: 0.4576 - accuracy: 0.7878 - val_loss: 0.5327 - val_accuracy: 0.7475\n",
      "Epoch 9/25\n",
      "250/250 [==============================] - 35s 140ms/step - loss: 0.4616 - accuracy: 0.7820 - val_loss: 0.6277 - val_accuracy: 0.7235\n",
      "Epoch 10/25\n",
      "250/250 [==============================] - 33s 134ms/step - loss: 0.4491 - accuracy: 0.7867 - val_loss: 0.5025 - val_accuracy: 0.7710\n",
      "Epoch 11/25\n",
      "250/250 [==============================] - 33s 130ms/step - loss: 0.4423 - accuracy: 0.7972 - val_loss: 0.5472 - val_accuracy: 0.7555\n",
      "Epoch 12/25\n",
      "250/250 [==============================] - 31s 124ms/step - loss: 0.4168 - accuracy: 0.8081 - val_loss: 0.5829 - val_accuracy: 0.7375\n",
      "Epoch 13/25\n",
      "250/250 [==============================] - 31s 125ms/step - loss: 0.4169 - accuracy: 0.8089 - val_loss: 0.5267 - val_accuracy: 0.7700\n",
      "Epoch 14/25\n",
      "250/250 [==============================] - 33s 131ms/step - loss: 0.3889 - accuracy: 0.8267 - val_loss: 0.6151 - val_accuracy: 0.7340\n",
      "Epoch 15/25\n",
      "250/250 [==============================] - 38s 153ms/step - loss: 0.3861 - accuracy: 0.8265 - val_loss: 0.5544 - val_accuracy: 0.7575\n",
      "Epoch 16/25\n",
      "250/250 [==============================] - 37s 147ms/step - loss: 0.3642 - accuracy: 0.8404 - val_loss: 0.5664 - val_accuracy: 0.7570\n",
      "Epoch 17/25\n",
      "250/250 [==============================] - 35s 142ms/step - loss: 0.3757 - accuracy: 0.8259 - val_loss: 0.5732 - val_accuracy: 0.7495\n",
      "Epoch 18/25\n",
      "250/250 [==============================] - 35s 138ms/step - loss: 0.3471 - accuracy: 0.8519 - val_loss: 0.5714 - val_accuracy: 0.7580\n",
      "Epoch 19/25\n",
      "250/250 [==============================] - 35s 139ms/step - loss: 0.3447 - accuracy: 0.8472 - val_loss: 0.5784 - val_accuracy: 0.7550\n",
      "Epoch 20/25\n",
      "250/250 [==============================] - 34s 135ms/step - loss: 0.3218 - accuracy: 0.8557 - val_loss: 0.5821 - val_accuracy: 0.7680\n",
      "Epoch 21/25\n",
      "250/250 [==============================] - 35s 139ms/step - loss: 0.3133 - accuracy: 0.8678 - val_loss: 0.6388 - val_accuracy: 0.7465\n",
      "Epoch 22/25\n",
      "250/250 [==============================] - 37s 147ms/step - loss: 0.3011 - accuracy: 0.8673 - val_loss: 0.6650 - val_accuracy: 0.7595\n",
      "Epoch 23/25\n",
      "250/250 [==============================] - 30s 121ms/step - loss: 0.2884 - accuracy: 0.8726 - val_loss: 0.6097 - val_accuracy: 0.7570\n",
      "Epoch 24/25\n",
      "250/250 [==============================] - 30s 120ms/step - loss: 0.2869 - accuracy: 0.8847 - val_loss: 0.6647 - val_accuracy: 0.7490\n",
      "Epoch 25/25\n",
      "250/250 [==============================] - 31s 123ms/step - loss: 0.2704 - accuracy: 0.8867 - val_loss: 0.6319 - val_accuracy: 0.7595\n"
     ]
    },
    {
     "data": {
      "text/plain": [
       "<keras.callbacks.History at 0x7f7eb44f56a0>"
      ]
     },
     "execution_count": 17,
     "metadata": {},
     "output_type": "execute_result"
    }
   ],
   "source": [
    "classifier.fit(x = training_set, validation_data = test_set, epochs = 25)"
   ]
  },
  {
   "cell_type": "code",
   "execution_count": null,
   "metadata": {},
   "outputs": [],
   "source": []
  }
 ],
 "metadata": {
  "colab": {
   "name": "CNN.ipynb",
   "provenance": []
  },
  "kernelspec": {
   "display_name": "Python 3",
   "language": "python",
   "name": "python3"
  },
  "language_info": {
   "codemirror_mode": {
    "name": "ipython",
    "version": 3
   },
   "file_extension": ".py",
   "mimetype": "text/x-python",
   "name": "python",
   "nbconvert_exporter": "python",
   "pygments_lexer": "ipython3",
   "version": "3.8.10"
  }
 },
 "nbformat": 4,
 "nbformat_minor": 1
}
